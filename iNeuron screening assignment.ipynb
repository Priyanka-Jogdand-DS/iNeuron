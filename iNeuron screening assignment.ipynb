{
 "cells": [
  {
   "cell_type": "code",
   "execution_count": 1,
   "id": "bf9e24b1",
   "metadata": {},
   "outputs": [
    {
     "name": "stdout",
     "output_type": "stream",
     "text": [
      "This is a placement assignment\n",
      "\n"
     ]
    }
   ],
   "source": [
    "file1 = open(\"example.txt\",\"w+\")\n",
    "file1.write(\"This is a placement assignment\")\n",
    "file1.close()\n",
    "\n",
    "file1 = open(\"example.txt\",\"r+\")\n",
    "print(file1.read())\n",
    "print()\n",
    "file1.close()"
   ]
  },
  {
   "cell_type": "code",
   "execution_count": 2,
   "id": "ed857a88",
   "metadata": {},
   "outputs": [
    {
     "name": "stdout",
     "output_type": "stream",
     "text": [
      "enter text to be replaced:placement\n",
      "enter text that will replace:screening\n",
      "\u0000\u0000\u0000\u0000\u0000\u0000\u0000\u0000\u0000\u0000\u0000\u0000\u0000\u0000\u0000\u0000\u0000\u0000\u0000\u0000\u0000\u0000\u0000\u0000\u0000\u0000\u0000\u0000\u0000\u0000This is a screening assignment\n",
      "Text successfully replaced\n"
     ]
    }
   ],
   "source": [
    "def function1(file1):\n",
    "    try: \n",
    "    # Python program to replace text in a file\n",
    "        x = input(\"enter text to be replaced:\")\n",
    "        y = input(\"enter text that will replace:\")\n",
    "\n",
    "        # file.txt should be replaced with\n",
    "        # the actual text file name\n",
    "        f = open(\"example.txt\", \"r+\")\n",
    "\n",
    "        # each sentence becomes an element in the list l\n",
    "        l = f.readlines()\n",
    "\n",
    "        # acts as a counter to know the\n",
    "        # index of the element to be replaced\n",
    "        c = 0\n",
    "        for i in l:\n",
    "            if x in i:\n",
    "\n",
    "                # Replacement carries the value\n",
    "                # of the text to be replaced\n",
    "                Replacement = i.replace(x, y)\n",
    "\n",
    "                # changes are made in the list\n",
    "                l = Replacement\n",
    "            c += 1\n",
    "\n",
    "        # The pre existing text in the file is erased\n",
    "        f.truncate(0)\n",
    "\n",
    "        # the modified list is written into\n",
    "        # the file thereby replacing the old text\n",
    "        f.writelines(l)\n",
    "        f.close()\n",
    "        with open('example.txt') as f:\n",
    "            contents = f.read()\n",
    "            print(contents)\n",
    "        print(\"Text successfully replaced\")\n",
    "    except Exception as e:\n",
    "        print(\"this wil handle an error\",e)\n",
    "        \n",
    "function1(\"example.txt\")\n"
   ]
  },
  {
   "cell_type": "code",
   "execution_count": 3,
   "id": "c7534ec9",
   "metadata": {},
   "outputs": [
    {
     "name": "stdout",
     "output_type": "stream",
     "text": [
      "\u0000\u0000\u0000\u0000\u0000\u0000\u0000\u0000\u0000\u0000\u0000\u0000\u0000\u0000\u0000\u0000\u0000\u0000\u0000\u0000\u0000\u0000\u0000\u0000\u0000\u0000\u0000\u0000\u0000\u0000This is a screening assignment\n"
     ]
    }
   ],
   "source": [
    "with open('example.txt') as f:\n",
    "            contents = f.read()\n",
    "            print(contents)"
   ]
  },
  {
   "cell_type": "markdown",
   "id": "d8923ac1",
   "metadata": {},
   "source": [
    "### 2. Demonstrate use of abstract class, multiple inheritance and decorator in python using examples."
   ]
  },
  {
   "cell_type": "code",
   "execution_count": 4,
   "id": "aa3054b1",
   "metadata": {},
   "outputs": [
    {
     "name": "stdout",
     "output_type": "stream",
     "text": [
      "welcome to bank\n",
      "In sbi bank 5 rupees interest\n"
     ]
    }
   ],
   "source": [
    "# Abstract class\n",
    "from abc import ABC, abstractmethod\n",
    "class Bank(ABC):\n",
    "    def bank_info(self):\n",
    "        print(\"welcome to bank\")\n",
    "    @abstractmethod\n",
    "    def interest(self):\n",
    "        \"Abstract method\"\n",
    "        pass\n",
    "    \n",
    "# Sub class/child class of abstract class\n",
    "class SBI(Bank):\n",
    "    def interest(self):\n",
    "        \"Implementation of abstract method\"\n",
    "        print(\"In sbi bank 5 rupees interest\")\n",
    "\n",
    "s=SBI()\n",
    "s.bank_info()\n",
    "s.interest()"
   ]
  },
  {
   "cell_type": "code",
   "execution_count": 5,
   "id": "5df2d6c4",
   "metadata": {},
   "outputs": [
    {
     "name": "stdout",
     "output_type": "stream",
     "text": [
      "Implemented method\n"
     ]
    }
   ],
   "source": [
    "from abc import *\n",
    "class Demo:\n",
    "   @abstractmethod\n",
    "   def m(self):\n",
    "       pass\n",
    "   def n(self):\n",
    "       print(\"Implemented method\")\n",
    "t=Demo()\n",
    "t.m()\n",
    "t.n()"
   ]
  },
  {
   "cell_type": "markdown",
   "id": "0e97b236",
   "metadata": {},
   "source": [
    "### Multiple inheritance"
   ]
  },
  {
   "cell_type": "code",
   "execution_count": 6,
   "id": "8c018940",
   "metadata": {},
   "outputs": [
    {
     "name": "stdout",
     "output_type": "stream",
     "text": [
      "Child Method\n",
      "Parent2 Method\n"
     ]
    }
   ],
   "source": [
    "class P1:\n",
    "    def m1(self):\n",
    "        print(\"Parent1 Method\")\n",
    "class P2:\n",
    "    def m1(self):\n",
    "        print(\"Parent2 Method\")\n",
    "class C(P2, P1):\n",
    "    def m2(self):\n",
    "        print(\"Child Method\")\n",
    "c=C()\n",
    "c.m2()\n",
    "c.m1()"
   ]
  },
  {
   "cell_type": "markdown",
   "id": "1a835ddb",
   "metadata": {},
   "source": [
    "### Decorators"
   ]
  },
  {
   "cell_type": "code",
   "execution_count": 7,
   "id": "42ea95bd",
   "metadata": {},
   "outputs": [
    {
     "name": "stdout",
     "output_type": "stream",
     "text": [
      "20\n",
      "-5\n"
     ]
    }
   ],
   "source": [
    "def decor(func):\n",
    "    def inner_function(x,y):\n",
    "        if x<0:\n",
    "            x = 0\n",
    "        if y<0:\n",
    "            y = 0\n",
    "        return func(x,y)\n",
    "    return inner_function \n",
    "@decor\n",
    "def sub(a,b):\n",
    "    res = a - b\n",
    "    return res\n",
    "print(sub(30,10))\n",
    "print(sub(10,15))"
   ]
  },
  {
   "cell_type": "code",
   "execution_count": 8,
   "id": "9f438499",
   "metadata": {},
   "outputs": [],
   "source": [
    "# Decorators\n",
    "def main_decorators(func):\n",
    "    def sub_decorators():\n",
    "        print(\"this is sub_decorators method inside decorators\")\n",
    "        func()\n",
    "        print(\"lets see how to create closures\")\n",
    "        func()        \n",
    "        func()\n",
    "        func()\n",
    "    return sub_decorators()"
   ]
  },
  {
   "cell_type": "code",
   "execution_count": 9,
   "id": "414b6a9c",
   "metadata": {},
   "outputs": [
    {
     "name": "stdout",
     "output_type": "stream",
     "text": [
      "this is sub_decorators method inside decorators\n",
      "here we have created decorators\n",
      "lets see how to create closures\n",
      "here we have created decorators\n",
      "here we have created decorators\n",
      "here we have created decorators\n"
     ]
    }
   ],
   "source": [
    "@main_decorators\n",
    "def xyz():\n",
    "    print(\"here we have created decorators\")"
   ]
  },
  {
   "cell_type": "code",
   "execution_count": null,
   "id": "c100aaa8",
   "metadata": {},
   "outputs": [],
   "source": []
  }
 ],
 "metadata": {
  "kernelspec": {
   "display_name": "Python 3 (ipykernel)",
   "language": "python",
   "name": "python3"
  },
  "language_info": {
   "codemirror_mode": {
    "name": "ipython",
    "version": 3
   },
   "file_extension": ".py",
   "mimetype": "text/x-python",
   "name": "python",
   "nbconvert_exporter": "python",
   "pygments_lexer": "ipython3",
   "version": "3.9.7"
  }
 },
 "nbformat": 4,
 "nbformat_minor": 5
}
